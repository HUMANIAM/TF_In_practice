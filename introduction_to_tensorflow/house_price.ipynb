{
 "cells": [
  {
   "cell_type": "markdown",
   "metadata": {},
   "source": [
    "### House Price"
   ]
  },
  {
   "cell_type": "markdown",
   "metadata": {},
   "source": [
    "this problem is about implementing a linear model to predict the price of houses based on the \n",
    "bedrooms 50 + 50*x k$"
   ]
  },
  {
   "cell_type": "code",
   "execution_count": 58,
   "metadata": {},
   "outputs": [],
   "source": [
    "from tensorflow import keras\n",
    "import numpy as np\n",
    "import tensorflow as tf\n"
   ]
  },
  {
   "cell_type": "code",
   "execution_count": 93,
   "metadata": {},
   "outputs": [],
   "source": [
    "# describe the model\n",
    "model = keras.Sequential([keras.layers.Dense(units=1, input_shape=[1])])\n",
    "\n",
    "opt = tf.keras.optimizers.SGD(learning_rate=0.5, name='SGD')\n",
    "\n",
    "# compile the model by setting the optimizer and the loss function.\n",
    "model.compile(optimizer=opt, loss=\"mean_squared_error\")\n",
    "\n",
    "# data\n",
    "x = np.arange(0, 1, 0.1)\n",
    "y = 0.5 + 0.5*x\n",
    "\n",
    "# fit the model\n",
    "model.fit(x, y, epochs=100)"
   ]
  },
  {
   "cell_type": "code",
   "execution_count": 92,
   "metadata": {},
   "outputs": [],
   "source": [
    "# use the model to predict unseen value\n",
    "print(model.predict([7])[0])"
   ]
  },
  {
   "cell_type": "markdown",
   "metadata": {},
   "source": [
    "I learned you need to normalize your input features to avoid the problem of parameters divergence\n",
    "maybe by \n",
    "- max normalization \n",
    "- standard normalization \n",
    "- or any other technique\n",
    "\n",
    "If you increase your learning rate you maybe results in the divergence problem so you need to \n",
    "use small values of learning rate to go slowely to the optimal values but please not be so small\n",
    "."
   ]
  },
  {
   "cell_type": "code",
   "execution_count": null,
   "metadata": {},
   "outputs": [],
   "source": []
  }
 ],
 "metadata": {
  "kernelspec": {
   "display_name": "tf_training",
   "language": "python",
   "name": ".env"
  },
  "language_info": {
   "codemirror_mode": {
    "name": "ipython",
    "version": 3
   },
   "file_extension": ".py",
   "mimetype": "text/x-python",
   "name": "python",
   "nbconvert_exporter": "python",
   "pygments_lexer": "ipython3",
   "version": "3.8.5"
  }
 },
 "nbformat": 4,
 "nbformat_minor": 4
}
