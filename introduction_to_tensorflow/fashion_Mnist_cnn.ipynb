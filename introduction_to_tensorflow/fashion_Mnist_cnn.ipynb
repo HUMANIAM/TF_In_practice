{
 "cells": [
  {
   "cell_type": "markdown",
   "metadata": {},
   "source": [
    "### CNN architecture \n",
    "cnn is based on 2 techniques \n",
    "- **Convolution**: where applying some types of filters on the images to extract new higher features like vertical edges, horizontal edges, texture instead of looking at every pixel in the image.\n",
    "- **Pooling**: this another technique used by the CNN to compress the output from layers without losing the main features of the input like \"vertical feats\". There is avg/max pooling."
   ]
  },
  {
   "cell_type": "code",
   "execution_count": 1,
   "metadata": {},
   "outputs": [],
   "source": [
    "import tensorflow as tf\n",
    "from tensorflow import keras\n",
    "import numpy as np\n",
    "import matplotlib.pyplot as plt"
   ]
  },
  {
   "cell_type": "code",
   "execution_count": 2,
   "metadata": {},
   "outputs": [
    {
     "name": "stdout",
     "output_type": "stream",
     "text": [
      "(60000, 28, 28)\n",
      "(60000,)\n"
     ]
    }
   ],
   "source": [
    "# load the data\n",
    "mnist = tf.keras.datasets.fashion_mnist\n",
    "(train_images, train_labesl), (test_images, test_labels) = mnist.load_data()\n",
    "\n",
    "# explore the data\n",
    "print(train_images.shape)\n",
    "print(train_labesl.shape)\n",
    "\n",
    "# preprocess the data and prepare it for training the model.\n",
    "m, h, w = train_images.shape\n",
    "train_images = train_images.reshape(m, h, w, 1) / 255.0\n",
    "m, h, w = test_images.shape\n",
    "test_images = test_images.reshape(m, h, w, 1) / 255.0"
   ]
  },
  {
   "cell_type": "code",
   "execution_count": 4,
   "metadata": {},
   "outputs": [
    {
     "name": "stdout",
     "output_type": "stream",
     "text": [
      "Epoch 1/5\n",
      "1875/1875 [==============================] - 43s 23ms/step - loss: 0.5739 - accuracy: 0.7903\n",
      "Epoch 2/5\n",
      "1875/1875 [==============================] - 40s 21ms/step - loss: 0.3837 - accuracy: 0.8590\n",
      "Epoch 3/5\n",
      "1875/1875 [==============================] - 41s 22ms/step - loss: 0.3252 - accuracy: 0.8795\n",
      "Epoch 4/5\n",
      "1875/1875 [==============================] - 42s 22ms/step - loss: 0.2914 - accuracy: 0.8913\n",
      "Epoch 5/5\n",
      "1875/1875 [==============================] - 42s 22ms/step - loss: 0.2659 - accuracy: 0.9011\n",
      "Evaluation\n",
      "313/313 [==============================] - 2s 7ms/step - loss: 0.3222 - accuracy: 0.8784\n",
      "Model: \"sequential_1\"\n",
      "_________________________________________________________________\n",
      "Layer (type)                 Output Shape              Param #   \n",
      "=================================================================\n",
      "conv2d_2 (Conv2D)            (None, 26, 26, 64)        640       \n",
      "_________________________________________________________________\n",
      "max_pooling2d_2 (MaxPooling2 (None, 13, 13, 64)        0         \n",
      "_________________________________________________________________\n",
      "conv2d_3 (Conv2D)            (None, 11, 11, 64)        36928     \n",
      "_________________________________________________________________\n",
      "max_pooling2d_3 (MaxPooling2 (None, 5, 5, 64)          0         \n",
      "_________________________________________________________________\n",
      "conv2d_4 (Conv2D)            (None, 3, 3, 64)          36928     \n",
      "_________________________________________________________________\n",
      "max_pooling2d_4 (MaxPooling2 (None, 1, 1, 64)          0         \n",
      "_________________________________________________________________\n",
      "flatten_1 (Flatten)          (None, 64)                0         \n",
      "_________________________________________________________________\n",
      "dense_2 (Dense)              (None, 128)               8320      \n",
      "_________________________________________________________________\n",
      "dense_3 (Dense)              (None, 10)                1290      \n",
      "=================================================================\n",
      "Total params: 84,106\n",
      "Trainable params: 84,106\n",
      "Non-trainable params: 0\n",
      "_________________________________________________________________\n"
     ]
    }
   ],
   "source": [
    "# define your model (cnn model)\n",
    "model = keras.models.Sequential([\n",
    "    keras.layers.Conv2D(64, (3, 3), activation=\"relu\", input_shape=(h, w, 1)),\n",
    "    keras.layers.MaxPool2D(2, 2),\n",
    "    keras.layers.Conv2D(64, (3, 3), activation=\"relu\"),\n",
    "    keras.layers.MaxPool2D(2, 2)\n",
    "    keras.layers.Flatten(),\n",
    "    keras.layers.Dense(128, activation=\"relu\"),\n",
    "    keras.layers.Dense(10, activation=\"softmax\")\n",
    "])\n",
    "\n",
    "# compile the model by setting the optimizer, loss and the metrics.\n",
    "model.compile(optimizer=\"adam\", loss='sparse_categorical_crossentropy', metrics=['accuracy'])\n",
    "\n",
    "# fit the model.\n",
    "class Accuracy_90(keras.callbacks.Callback):\n",
    "  def on_epoch_end(self, epoch, logs={}):\n",
    "    if(logs.get('accuracy')>0.90):\n",
    "      print(f\"\\nReached 90% accuracy so cancelling training in epoch {epoch}!\")\n",
    "      self.model.stop_training = True\n",
    "        \n",
    "model.fit(train_images, train_labesl, epochs=5, callbacks=[])\n",
    "\n",
    "# evaluate the model\n",
    "print(\"Evaluation\")\n",
    "model.evaluate(test_images, test_labels)\n",
    "\n",
    "# print the summery about the models (no of layers, no of parameters)\n",
    "model.summary()"
   ]
  },
  {
   "cell_type": "code",
   "execution_count": 101,
   "metadata": {},
   "outputs": [
    {
     "name": "stdout",
     "output_type": "stream",
     "text": [
      "WARNING:tensorflow:7 out of the last 11 calls to <function Model.make_predict_function.<locals>.predict_function at 0x7febf6a98a60> triggered tf.function retracing. Tracing is expensive and the excessive number of tracings could be due to (1) creating @tf.function repeatedly in a loop, (2) passing tensors with different shapes, (3) passing Python objects instead of tensors. For (1), please define your @tf.function outside of the loop. For (2), @tf.function has experimental_relax_shapes=True option that relaxes argument shapes that can avoid unnecessary retracing. For (3), please refer to https://www.tensorflow.org/tutorials/customization/performance#python_or_tensor_args and https://www.tensorflow.org/api_docs/python/tf/function for  more details.\n"
     ]
    },
    {
     "data": {
      "image/png": "[encoded data removed]",
      "text/plain": [
       "<Figure size 432x288 with 12 Axes>"
      ]
     },
     "metadata": {
      "needs_background": "light"
     },
     "output_type": "display_data"
    }
   ],
   "source": [
    "# visualize the learning features using CNN\n",
    "# visualize the convloution output of the first 4 layers for 3 different  images.\n",
    "Images = [0, 7, 26]\n",
    "CONVOLUTION_NUM = 1\n",
    "\n",
    "# figure subplots.\n",
    "f, axarr = plt.subplots(3,4)\n",
    "\n",
    "# construct the activation model from the existing one.\n",
    "layers_output = [layer.output for layer in model.layers]\n",
    "activation_model = keras.models.Model(inputs=model.input, outputs=layers_output)\n",
    "\n",
    "for im in range(len(Images)):\n",
    "    layers_out = activation_model.predict(test_images[Images[im]].reshape(1, 28, 28, 1))\n",
    "    for ly in range(0, 4):\n",
    "        layer_out = layers_out[ly]\n",
    "        axarr[im, ly].imshow(layer_out[0, : , :, CONVOLUTION_NUM], cmap='inferno')\n",
    "        axarr[im,ly].grid(False)\n",
    "    "
   ]
  },
  {
   "cell_type": "markdown",
   "metadata": {},
   "source": [
    "**Note** as you can see the previous visualization the CONV layer output is more robust and has clear pattern for the object more than the output of the second one. So your model did well on the training and testing when you remove the second layer."
   ]
  },
  {
   "cell_type": "markdown",
   "metadata": {},
   "source": [
    "#### Whole-model saving\n",
    "You can save an entire model to a single artifact. It will include:\n",
    "\n",
    "- The model's architecture/config\n",
    "- The model's weight values (which were learned during training)\n",
    "- The model's compilation information (if compile()) was called\n",
    "- The optimizer and its state, if any (this enables you to restart training where you left)\n",
    "\n",
    "The model architecture, and training configuration (including the optimizer, losses, and metrics) are stored in saved_model.pb. The weights are saved in the variables/ directory.\n",
    "\n",
    "[look here for more info](https://www.tensorflow.org/guide/keras/save_and_serialize)"
   ]
  },
  {
   "cell_type": "code",
   "execution_count": 15,
   "metadata": {},
   "outputs": [
    {
     "name": "stdout",
     "output_type": "stream",
     "text": [
      "INFO:tensorflow:Assets written to: fashion_Mnist_cnn/assets\n"
     ]
    }
   ],
   "source": [
    "# save the model\n",
    "model_path = \"fashion_Mnist_cnn\"\n",
    "\n",
    "# save as H5 format\n",
    "model.save(model_path+\"/model.h5\", save_format='h5')\n",
    "\n",
    "# save as tensorflow savedModel format (.pb, variables, assests)\n",
    "model.save(model_path)"
   ]
  },
  {
   "cell_type": "code",
   "execution_count": 16,
   "metadata": {},
   "outputs": [],
   "source": [
    "# load the model to continue training or to use it for prediction\n",
    "saved_model = keras.models.load_model(model_path)"
   ]
  },
  {
   "cell_type": "code",
   "execution_count": 20,
   "metadata": {},
   "outputs": [],
   "source": [
    "test_image = test_images[0].reshape(1, 28, 28, 1)\n",
    "\n",
    "# CHECK NO CORRUPTION HAPPENED WHEN W/R THE MODEL.\n",
    "np.testing.assert_allclose(\n",
    "    model.predict(test_image), saved_model.predict(test_image)\n",
    ")"
   ]
  },
  {
   "cell_type": "code",
   "execution_count": null,
   "metadata": {},
   "outputs": [],
   "source": []
  },
  {
   "cell_type": "code",
   "execution_count": null,
   "metadata": {},
   "outputs": [],
   "source": []
  }
 ],
 "metadata": {
  "kernelspec": {
   "display_name": "tf_training",
   "language": "python",
   "name": ".env"
  },
  "language_info": {
   "codemirror_mode": {
    "name": "ipython",
    "version": 3
   },
   "file_extension": ".py",
   "mimetype": "text/x-python",
   "name": "python",
   "nbconvert_exporter": "python",
   "pygments_lexer": "ipython3",
   "version": "3.8.5"
  }
 },
 "nbformat": 4,
 "nbformat_minor": 4
}
