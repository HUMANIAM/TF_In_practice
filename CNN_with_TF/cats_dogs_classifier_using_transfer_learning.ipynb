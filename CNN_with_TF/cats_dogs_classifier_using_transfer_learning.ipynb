{
 "cells": [
  {
   "cell_type": "markdown",
   "metadata": {},
   "source": [
    "### Cats And Dogs Classifier With Transfer Learning"
   ]
  },
  {
   "cell_type": "code",
   "execution_count": 4,
   "metadata": {},
   "outputs": [],
   "source": [
    "# import necessary libraries\n",
    "import tensorflow as tf\n",
    "from tensorflow import keras\n",
    "from tensorflow.keras.applications.inception_v3 import InceptionV3\n",
    "import numpy as np\n",
    "import pandas as pd\n",
    "import matplotlib.pyplot as plt\n",
    "import matplotlib.image as mpimg\n",
    "import os, sys, time"
   ]
  },
  {
   "cell_type": "code",
   "execution_count": 2,
   "metadata": {},
   "outputs": [
    {
     "name": "stdout",
     "output_type": "stream",
     "text": [
      "\u001b[4mTRAINING DATA\u001b[0m\n",
      "Cats: 1000\n",
      "Dats: 1000\n",
      "Cat Image Shape: (374, 500, 3)\n",
      "Dog Image Shape: (500, 332, 3)\n",
      "\u001b[4m\n",
      "\n",
      "Testing DATA\u001b[0m\n",
      "Cats: 500\n",
      "Dats: 500\n",
      "Cat Image Shape: (499, 459, 3)\n",
      "Dog Image Shape: (339, 200, 3)\n"
     ]
    }
   ],
   "source": [
    "# read the data\n",
    "data_path = \"data/dogs_cats\"\n",
    "train_path = \"data/dogs_cats/train\"\n",
    "validation_path = \"data/dogs_cats/validation\"\n",
    "\n",
    "print(\"\\033[4mTRAINING DATA\\033[0m\")\n",
    "train_cats_names = os.listdir(os.path.join(train_path, \"cats\"))\n",
    "train_dogs_names = os.listdir(os.path.join(train_path, \"dogs\"))\n",
    "\n",
    "print(\"Cats: {}\".format(len(train_cats_names)))\n",
    "print(\"Dats: {}\".format(len(train_dogs_names)))\n",
    "\n",
    "cat_img = mpimg.imread(os.path.join(train_path, \"cats\", train_cats_names[0]))\n",
    "dog_img = mpimg.imread(os.path.join(train_path, \"dogs\", train_dogs_names[0]))\n",
    "print(f\"Cat Image Shape: {cat_img.shape}\")\n",
    "print(f\"Dog Image Shape: {dog_img.shape}\")\n",
    "\n",
    "## Validation Data\n",
    "print(\"\\033[4m\\n\\nTesting DATA\\033[0m\")\n",
    "val_cats_names = os.listdir(os.path.join(validation_path, \"cats\"))\n",
    "val_dogs_names = os.listdir(os.path.join(validation_path, \"dogs\"))\n",
    "\n",
    "print(\"Cats: {}\".format(len(val_cats_names)))\n",
    "print(\"Dats: {}\".format(len(val_dogs_names)))\n",
    "\n",
    "cat_img = mpimg.imread(os.path.join(validation_path, \"cats\", val_cats_names[0]))\n",
    "dog_img = mpimg.imread(os.path.join(validation_path, \"dogs\", val_dogs_names[0]))\n",
    "print(f\"Cat Image Shape: {cat_img.shape}\")\n",
    "print(f\"Dog Image Shape: {dog_img.shape}\")"
   ]
  },
  {
   "cell_type": "code",
   "execution_count": 55,
   "metadata": {},
   "outputs": [],
   "source": [
    "# Some Constants\n",
    "BATCH_SIZE = 20\n",
    "TARGET_SIZE = (150, 150)\n",
    "CLASS_MODE = 'binary'\n",
    "EPOCHS = 2\n",
    "WIDTH, HEIGHT, CHANNELS = cat_img.shape\n",
    "TRAIN_DATA_SIZE = len(train_cats_names) + len(train_dogs_names)\n",
    "VAL_DATA_SIZE = len(val_cats_names) + len(val_dogs_names)"
   ]
  },
  {
   "cell_type": "code",
   "execution_count": 56,
   "metadata": {},
   "outputs": [
    {
     "name": "stdout",
     "output_type": "stream",
     "text": [
      "Found 2000 images belonging to 2 classes.\n",
      "Found 1000 images belonging to 2 classes.\n"
     ]
    }
   ],
   "source": [
    "# preprocess the data\n",
    "# those operations will be done using the imageGenerator class 'normalization', `reshaping`, 'etc'\n",
    "from tensorflow.keras.preprocessing.image import ImageDataGenerator\n",
    "\n",
    "# --------------------\n",
    "# Flow training images in batches of 20 using train_datagen generator (data augmentation)\n",
    "# --------------------\n",
    "train_datagen = ImageDataGenerator( rescale = 1.0/255.,\n",
    "                                      shear_range=0.2,\n",
    "                                      zoom_range=0.2,\n",
    "                                      rotation_range=40,\n",
    "                                      width_shift_range=0.2,\n",
    "                                      height_shift_range=0.2,\n",
    "                                      horizontal_flip=True,\n",
    "#                                     vertical_flip=True,\n",
    "                                      fill_mode=\"nearest\")\n",
    "\n",
    "train_generator = train_datagen.flow_from_directory(train_path,\n",
    "                                                    batch_size=BATCH_SIZE,\n",
    "                                                    class_mode=CLASS_MODE,\n",
    "                                                    target_size=TARGET_SIZE)\n",
    "\n",
    "# --------------------\n",
    "# Flow validation images in batches of 20 using test_datagen generator\n",
    "# --------------------\n",
    "validation_datagen  = ImageDataGenerator( rescale = 1.0/255. )\n",
    "validation_generator =  validation_datagen.flow_from_directory(validation_path,\n",
    "                                                         batch_size  =BATCH_SIZE,\n",
    "                                                         class_mode  = CLASS_MODE,\n",
    "                                                         target_size = TARGET_SIZE)\n"
   ]
  },
  {
   "cell_type": "code",
   "execution_count": 57,
   "metadata": {},
   "outputs": [],
   "source": [
    "inception_model_path = \"models/inception_v3/inception_v3_weights_tf_dim_ordering_tf_kernels_notop.h5\"\n",
    "\n",
    "pre_trained_model = InceptionV3(input_shape = (150, 150, 3), \n",
    "                                include_top = False, \n",
    "                                weights = None)\n",
    "\n",
    "pre_trained_model.load_weights(inception_model_path)\n",
    "\n",
    "# lock/freeze the layers from training.\n",
    "for layer in pre_trained_model.layers:\n",
    "  layer.trainable = False\n"
   ]
  },
  {
   "cell_type": "code",
   "execution_count": 58,
   "metadata": {},
   "outputs": [
    {
     "name": "stdout",
     "output_type": "stream",
     "text": [
      "layer 311 with name mixed10 with shape (None, 3, 3, 2048)\n"
     ]
    }
   ],
   "source": [
    "layers_info = [(layer.name, layer.output_shape) for layer in pre_trained_model.layers]\n",
    "print(f\"layer {len(layers_info)} with name {layers_info[-1][0]} with shape {layers_info[-1][1]}\" )"
   ]
  },
  {
   "cell_type": "code",
   "execution_count": 59,
   "metadata": {},
   "outputs": [
    {
     "name": "stdout",
     "output_type": "stream",
     "text": [
      "last layer output shape:  (None, 7, 7, 768)\n"
     ]
    }
   ],
   "source": [
    "last_layer = pre_trained_model.get_layer('mixed7')\n",
    "print('last layer output shape: ', last_layer.output_shape)\n",
    "last_output = last_layer.output"
   ]
  },
  {
   "cell_type": "code",
   "execution_count": 60,
   "metadata": {},
   "outputs": [],
   "source": [
    "# define your own custom DNN that will be connected with the already trained convnet model\n",
    "x = keras.layers.Flatten()(last_output)\n",
    "x = keras.layers.Dense(1024, activation=\"relu\")(x)\n",
    "# x = keras.layers.BatchNormalization()(x),\n",
    "x = keras.layers.Dropout(0.2)(x)  \n",
    "x = keras.layers.Dense(1, activation=\"sigmoid\")(x)\n",
    "\n",
    "model =  keras.Model(pre_trained_model.input, x)\n",
    "\n",
    "model.compile(optimizer = keras.optimizers.RMSprop(lr=0.0001), \n",
    "              loss = 'binary_crossentropy', \n",
    "              metrics = ['accuracy'])\n",
    "\n",
    "# model.Summery()"
   ]
  },
  {
   "cell_type": "code",
   "execution_count": 61,
   "metadata": {},
   "outputs": [
    {
     "name": "stdout",
     "output_type": "stream",
     "text": [
      "Epoch 1/2\n",
      "100/100 - 160s - loss: 1.1515 - accuracy: 0.5012 - val_loss: 0.9549 - val_accuracy: 0.4985\n",
      "Epoch 2/2\n",
      "100/100 - 196s - loss: 0.9069 - accuracy: 0.4983 - val_loss: 0.9041 - val_accuracy: 0.5029\n"
     ]
    }
   ],
   "source": [
    "history = model.fit( train_generator, \n",
    "          validation_data=validation_generator,\n",
    "          epochs=EPOCHS,\n",
    "          steps_per_epoch=TRAIN_DATA_SIZE/BATCH_SIZE,\n",
    "          validation_steps=VAL_DATA_SIZE/BATCH_SIZE,\n",
    "          verbose = 2)"
   ]
  },
  {
   "cell_type": "code",
   "execution_count": 35,
   "metadata": {},
   "outputs": [
    {
     "data": {
      "image/png": "[encoded data removed]",
      "text/plain": [
       "<Figure size 432x288 with 1 Axes>"
      ]
     },
     "metadata": {
      "needs_background": "light"
     },
     "output_type": "display_data"
    },
    {
     "data": {
      "image/png": "[encoded data removed]",
      "text/plain": [
       "<Figure size 432x288 with 1 Axes>"
      ]
     },
     "metadata": {
      "needs_background": "light"
     },
     "output_type": "display_data"
    },
    {
     "data": {
      "text/plain": [
       "<Figure size 432x288 with 0 Axes>"
      ]
     },
     "metadata": {},
     "output_type": "display_data"
    }
   ],
   "source": [
    "# graph train_acc vs val_acc\n",
    "acc = history.history['accuracy']\n",
    "val_acc = history.history['val_accuracy']\n",
    "loss = history.history['loss']\n",
    "val_loss = history.history['val_loss']\n",
    "epochs = range(len(acc))\n",
    "\n",
    "plt.plot(epochs, acc, 'r', label='Training accuracy')\n",
    "plt.plot(epochs, val_acc, 'b', label='Validation accuracy')\n",
    "plt.title('Training and validation accuracy')\n",
    "plt.legend(loc=0)\n",
    "plt.figure()\n",
    "\n",
    "plt.plot(epochs, loss, 'r', label='Training loss')\n",
    "plt.plot(epochs, val_loss, 'b', label='Validation loss')\n",
    "plt.title('Training and validation loss')\n",
    "plt.legend(loc=0)\n",
    "plt.figure()\n",
    "\n",
    "plt.show()"
   ]
  },
  {
   "cell_type": "code",
   "execution_count": null,
   "metadata": {},
   "outputs": [],
   "source": []
  }
 ],
 "metadata": {
  "kernelspec": {
   "display_name": "tf_training",
   "language": "python",
   "name": ".env"
  },
  "language_info": {
   "codemirror_mode": {
    "name": "ipython",
    "version": 3
   },
   "file_extension": ".py",
   "mimetype": "text/x-python",
   "name": "python",
   "nbconvert_exporter": "python",
   "pygments_lexer": "ipython3",
   "version": "3.8.5"
  }
 },
 "nbformat": 4,
 "nbformat_minor": 4
}
