{
 "cells": [
  {
   "cell_type": "code",
   "execution_count": 1,
   "metadata": {},
   "outputs": [],
   "source": [
    "import tensorflow as tf\n",
    "from tensorflow import keras\n",
    "import numpy as np\n",
    "from tensorflow.keras.preprocessing.text import Tokenizer\n",
    "from tensorflow.keras.preprocessing.sequence import pad_sequences"
   ]
  },
  {
   "cell_type": "markdown",
   "metadata": {},
   "source": [
    "### read the data"
   ]
  },
  {
   "cell_type": "code",
   "execution_count": 2,
   "metadata": {},
   "outputs": [
    {
     "name": "stdout",
     "output_type": "stream",
     "text": [
      "sentences: 2225\n",
      "labels: 2225\n",
      "Sentence0 : tv future hands viewers home theatre systems plasma high-definition tvs digital video recorders moving living room way people watch tv will radically different \n",
      "lable0 : tech\n"
     ]
    }
   ],
   "source": [
    "data_path = \"data/bbc-text.csv\"\n",
    "stopwords = [ \"a\", \"about\", \"above\", \"after\", \"again\", \"against\", \"all\", \"am\", \"an\", \"and\", \"any\", \"are\", \"as\", \"at\", \"be\", \"because\", \"been\", \"before\", \"being\", \"below\", \"between\", \"both\", \"but\", \"by\", \"could\", \"did\", \"do\", \"does\", \"doing\", \"down\", \"during\", \"each\", \"few\", \"for\", \"from\", \"further\", \"had\", \"has\", \"have\", \"having\", \"he\", \"he'd\", \"he'll\", \"he's\", \"her\", \"here\", \"here's\", \"hers\", \"herself\", \"him\", \"himself\", \"his\", \"how\", \"how's\", \"i\", \"i'd\", \"i'll\", \"i'm\", \"i've\", \"if\", \"in\", \"into\", \"is\", \"it\", \"it's\", \"its\", \"itself\", \"let's\", \"me\", \"more\", \"most\", \"my\", \"myself\", \"nor\", \"of\", \"on\", \"once\", \"only\", \"or\", \"other\", \"ought\", \"our\", \"ours\", \"ourselves\", \"out\", \"over\", \"own\", \"same\", \"she\", \"she'd\", \"she'll\", \"she's\", \"should\", \"so\", \"some\", \"such\", \"than\", \"that\", \"that's\", \"the\", \"their\", \"theirs\", \"them\", \"themselves\", \"then\", \"there\", \"there's\", \"these\", \"they\", \"they'd\", \"they'll\", \"they're\", \"they've\", \"this\", \"those\", \"through\", \"to\", \"too\", \"under\", \"until\", \"up\", \"very\", \"was\", \"we\", \"we'd\", \"we'll\", \"we're\", \"we've\", \"were\", \"what\", \"what's\", \"when\", \"when's\", \"where\", \"where's\", \"which\", \"while\", \"who\", \"who's\", \"whom\", \"why\", \"why's\", \"with\", \"would\", \"you\", \"you'd\", \"you'll\", \"you're\", \"you've\", \"your\", \"yours\", \"yourself\", \"yourselves\" ]\n",
    "\n",
    "labels, sentences = [], []\n",
    "headlines = True\n",
    "\n",
    "with open(data_path, \"r\") as csv_file:\n",
    "    for line in csv_file:\n",
    "        if headlines : headlines = False; continue\n",
    "        \n",
    "        label, sentence = line.split(',')\n",
    "        labels.append(label)\n",
    "        for sw in stopwords:\n",
    "            sentence = sentence.replace(' '+sw+' ', ' ').replace('  ', ' ')\n",
    "        sentences.append(sentence)\n",
    "        \n",
    "    sentences = np.asarray(sentences)\n",
    "    labels = np.asarray(labels)\n",
    "    \n",
    "print(f\"sentences: {len(sentences)}\")\n",
    "print(f\"labels: {len(labels)}\")\n",
    "print(f\"Sentence0 : {sentences[0][:160]}\")\n",
    "print(f\"lable0 : {labels[0]}\")"
   ]
  },
  {
   "cell_type": "markdown",
   "metadata": {},
   "source": [
    "### preprocess the data"
   ]
  },
  {
   "cell_type": "code",
   "execution_count": 47,
   "metadata": {},
   "outputs": [],
   "source": [
    "# configuration parameters\n",
    "vocab_sz = 10000 \n",
    "max_length = 160\n",
    "embedding  = 16\n",
    "oov_tok    = '<oov>'\n",
    "trunc_type = 'post'\n",
    "pad_type   = 'post'\n",
    "num_epochs = 10\n",
    "categories_length = len(set(labels))"
   ]
  },
  {
   "cell_type": "code",
   "execution_count": 22,
   "metadata": {},
   "outputs": [],
   "source": [
    "training_portion = 0.8\n",
    "train_sz = int(training_portion*len(sentences)) \n",
    "\n",
    "train_sentences = sentences[:train_sz] \n",
    "train_labels = labels[:train_sz]\n",
    "val_sentences = sentences[train_sz:]\n",
    "val_labels = labels[train_sz:]"
   ]
  },
  {
   "cell_type": "code",
   "execution_count": 31,
   "metadata": {},
   "outputs": [
    {
     "name": "stdout",
     "output_type": "stream",
     "text": [
      "449\n",
      "160\n",
      "200\n",
      "160\n",
      "192\n",
      "160\n"
     ]
    }
   ],
   "source": [
    "# tokenize and padding the training and validation data.\n",
    "tokenizer = Tokenizer(num_words=vocab_sz, oov_token=oov_tok)\n",
    "tokenizer.fit_on_texts(sentences)\n",
    "word_index = tokenizer.word_index\n",
    "\n",
    "train_sequences = tokenizer.texts_to_sequences(train_sentences)\n",
    "train_padded = pad_sequences(train_sequences, maxlen=max_length, padding=pad_type, truncating=trunc_type)\n",
    "\n",
    "val_sequences = tokenizer.texts_to_sequences(val_sentences)\n",
    "val_padded = pad_sequences(val_sequences, maxlen=max_length, padding=pad_type, truncating=trunc_type)\n",
    "\n",
    "train_padded = np.asarray(train_padded)\n",
    "val_padded = np.asarray(val_padded)\n",
    "\n",
    "print(len(train_sequences[0]))\n",
    "print(len(train_padded[0]))\n",
    "\n",
    "print(len(train_sequences[1]))\n",
    "print(len(train_padded[1]))\n",
    "\n",
    "print(len(train_sequences[10]))\n",
    "print(len(train_padded[10]))"
   ]
  },
  {
   "cell_type": "code",
   "execution_count": 38,
   "metadata": {},
   "outputs": [
    {
     "name": "stdout",
     "output_type": "stream",
     "text": [
      "[4]\n",
      "[2]\n",
      "[1]\n",
      "(1780, 1)\n",
      "[5]\n",
      "[4]\n",
      "[3]\n",
      "(445, 1)\n"
     ]
    }
   ],
   "source": [
    "# tokenize and padding labels\n",
    "\n",
    "labels_tokenizer = Tokenizer(num_words=categories_length+1)\n",
    "labels_tokenizer.fit_on_texts(labels)\n",
    "\n",
    "train_labels_seq = labels_tokenizer.texts_to_sequences(train_labels)\n",
    "val_labels_seq = labels_tokenizer.texts_to_sequences(val_labels)\n",
    "\n",
    "train_labels_seq = np.asarray(train_labels_seq)\n",
    "val_labels_seq = np.asarray(val_labels_seq)\n",
    "\n",
    "print(train_labels_seq[0])\n",
    "print(train_labels_seq[1])\n",
    "print(train_labels_seq[2])\n",
    "print(train_labels_seq.shape)\n",
    "\n",
    "print(val_labels_seq[0])\n",
    "print(val_labels_seq[1])\n",
    "print(val_labels_seq[2])\n",
    "print(val_labels_seq.shape)"
   ]
  },
  {
   "cell_type": "markdown",
   "metadata": {},
   "source": [
    "### define -> compile -> fit your model"
   ]
  },
  {
   "cell_type": "code",
   "execution_count": 44,
   "metadata": {},
   "outputs": [
    {
     "name": "stdout",
     "output_type": "stream",
     "text": [
      "Model: \"sequential_3\"\n",
      "_________________________________________________________________\n",
      "Layer (type)                 Output Shape              Param #   \n",
      "=================================================================\n",
      "embedding_3 (Embedding)      (None, 160, 16)           160000    \n",
      "_________________________________________________________________\n",
      "global_average_pooling1d_3 ( (None, 16)                0         \n",
      "_________________________________________________________________\n",
      "dense_6 (Dense)              (None, 32)                544       \n",
      "_________________________________________________________________\n",
      "dense_7 (Dense)              (None, 6)                 198       \n",
      "=================================================================\n",
      "Total params: 160,742\n",
      "Trainable params: 160,742\n",
      "Non-trainable params: 0\n",
      "_________________________________________________________________\n"
     ]
    }
   ],
   "source": [
    "# define the model\n",
    "model = keras.models.Sequential([\n",
    "    keras.layers.Embedding(vocab_sz, embedding, input_length=max_length),\n",
    "    keras.layers.GlobalAveragePooling1D(),\n",
    "    keras.layers.Dense(32, activation='relu'),\n",
    "    keras.layers.Dense(categories_length+1, activation='softmax')\n",
    "])\n",
    "\n",
    "# compile the model with adam optimer and categorical crossentropy and accuracey metric\n",
    "model.compile(optimizer='adam', loss='sparse_categorical_crossentropy', metrics=['accuracy'])\n",
    "\n",
    "# get summary of the model\n",
    "model.summary()"
   ]
  },
  {
   "cell_type": "code",
   "execution_count": 49,
   "metadata": {},
   "outputs": [
    {
     "name": "stdout",
     "output_type": "stream",
     "text": [
      "Epoch 1/10\n",
      "56/56 [==============================] - 0s 5ms/step - loss: 0.0259 - accuracy: 1.0000 - val_loss: 0.1402 - val_accuracy: 0.9573\n",
      "Epoch 2/10\n",
      "56/56 [==============================] - 0s 5ms/step - loss: 0.0216 - accuracy: 1.0000 - val_loss: 0.1361 - val_accuracy: 0.9573\n",
      "Epoch 3/10\n",
      "56/56 [==============================] - 0s 4ms/step - loss: 0.0181 - accuracy: 1.0000 - val_loss: 0.1323 - val_accuracy: 0.9618\n",
      "Epoch 4/10\n",
      "56/56 [==============================] - 0s 5ms/step - loss: 0.0155 - accuracy: 1.0000 - val_loss: 0.1298 - val_accuracy: 0.9618\n",
      "Epoch 5/10\n",
      "56/56 [==============================] - 0s 7ms/step - loss: 0.0133 - accuracy: 1.0000 - val_loss: 0.1273 - val_accuracy: 0.9640\n",
      "Epoch 6/10\n",
      "56/56 [==============================] - 0s 9ms/step - loss: 0.0115 - accuracy: 1.0000 - val_loss: 0.1258 - val_accuracy: 0.9618\n",
      "Epoch 7/10\n",
      "56/56 [==============================] - 0s 6ms/step - loss: 0.0100 - accuracy: 1.0000 - val_loss: 0.1241 - val_accuracy: 0.9640\n",
      "Epoch 8/10\n",
      "56/56 [==============================] - 0s 5ms/step - loss: 0.0089 - accuracy: 1.0000 - val_loss: 0.1228 - val_accuracy: 0.9663\n",
      "Epoch 9/10\n",
      "56/56 [==============================] - 0s 6ms/step - loss: 0.0079 - accuracy: 1.0000 - val_loss: 0.1219 - val_accuracy: 0.9640\n",
      "Epoch 10/10\n",
      "56/56 [==============================] - 0s 5ms/step - loss: 0.0070 - accuracy: 1.0000 - val_loss: 0.1210 - val_accuracy: 0.9640\n"
     ]
    }
   ],
   "source": [
    "# train the model\n",
    "history = model.fit(train_padded, train_labels_seq, \n",
    "          validation_data=(val_padded, val_labels_seq), \n",
    "          epochs=num_epochs)"
   ]
  },
  {
   "cell_type": "markdown",
   "metadata": {},
   "source": [
    "### visualize losses and accuracy"
   ]
  },
  {
   "cell_type": "code",
   "execution_count": 61,
   "metadata": {},
   "outputs": [
    {
     "data": {
      "image/png": "[encoded data removed]",
      "text/plain": [
       "<Figure size 432x288 with 1 Axes>"
      ]
     },
     "metadata": {
      "needs_background": "light"
     },
     "output_type": "display_data"
    }
   ],
   "source": [
    "import matplotlib.pyplot as plt\n",
    "def plot_graphs(history, string):\n",
    "    plt.plot(history.history[string], color='b')\n",
    "    plt.plot(history.history[\"val_\"+string])\n",
    "    plt.xlabel(\"Epochs\")\n",
    "    plt.ylabel(string)\n",
    "    plt.legend([string, 'val_'+string])\n",
    "    plt.show()\n",
    "  \n",
    "    \n",
    "plot_graphs(history, \"loss\")"
   ]
  },
  {
   "cell_type": "markdown",
   "metadata": {},
   "source": [
    "### Decode from words IDs to words text"
   ]
  },
  {
   "cell_type": "code",
   "execution_count": 85,
   "metadata": {},
   "outputs": [
    {
     "name": "stdout",
     "output_type": "stream",
     "text": [
      "tv future hands viewers home theatre systems plasma high definition tvs digital video recorders moving living room way people watch tv will radically different five years time according expert panel gathered annual consumer electronics show las vegas discuss new technologies will impact one favourite <oov> us leading trend programmes content will delivered viewers via home networks cable satellite telecoms companies broadband service providers front rooms portable devices one talked about technologies ces digital personal video recorders dvr pvr set top boxes like us s tivo uk s sky system allow people record store play pause forward wind tv programmes want essentially technology allows much personalised tv also built in high definition tv sets big business japan us slower take off europe lack high definition programming not can people forward wind adverts can also forget abiding network channel schedules putting together a la <oov> entertainment us networks cable satellite companies worried means terms advertising revenues well brand identity viewer loyalty channels\n"
     ]
    }
   ],
   "source": [
    "reverse_word_index = dict([(v, k)for (k, v) in word_index.items()])\n",
    "\n",
    "def decode_sentence(txt):\n",
    "    return ' '.join([reverse_index.get(w, '?') for w in txt])\n",
    "\n",
    "print(decode_sentence(train_padded[0]))"
   ]
  },
  {
   "cell_type": "markdown",
   "metadata": {},
   "source": [
    "#### save word embeddingVectors as tsv files"
   ]
  },
  {
   "cell_type": "code",
   "execution_count": 86,
   "metadata": {},
   "outputs": [
    {
     "name": "stdout",
     "output_type": "stream",
     "text": [
      "(10000, 16)\n"
     ]
    }
   ],
   "source": [
    "# get the embedding verctor of words which is the first layer in the model.\n",
    "embeddings = model.layers[0].get_weights()[0]\n",
    "print(embeddings.shape)\n",
    "\n",
    "import io\n",
    "out_v = io.open(\"vecs.tsv\", \"w\", encoding='utf-8');\n",
    "out_m = io.open(\"meta.tsv\", \"w\", encoding='utf-8')\n",
    "\n",
    "for i in range(1,vocab_sz):\n",
    "    wrd = reverse_word_index[i]\n",
    "    out_m.write(wrd+\"\\n\")\n",
    "    out_v.write( '\\t'.join([ str(v) for v in embeddings[i]]) + '\\n')\n",
    "    \n",
    "out_m.close()\n",
    "out_v.close()"
   ]
  },
  {
   "cell_type": "markdown",
   "metadata": {},
   "source": [
    "### Save the model as tfsavedModel"
   ]
  },
  {
   "cell_type": "code",
   "execution_count": 87,
   "metadata": {},
   "outputs": [],
   "source": [
    "model.save(\"model/bbc_text_learning_embedding_vectors/bbc_text_classifier.h5\")"
   ]
  },
  {
   "cell_type": "code",
   "execution_count": 103,
   "metadata": {},
   "outputs": [
    {
     "name": "stdout",
     "output_type": "stream",
     "text": [
      "business\n",
      "sentence: tv future hands viewers home theatre systems plasma high-definition tvs digital video recorders moving living room way people watch tv will radically different \n",
      "actual label: tech\n",
      "predicted label: tech\n"
     ]
    }
   ],
   "source": [
    "sentence = [\"granny starting to fear spiders in the garden might be real\", \"game of thrones season finale showing this sunday night\"]\n",
    "sequences = tokenizer.texts_to_sequences(sentence)\n",
    "padded = pad_sequences(sequences, maxlen=max_length, padding=pad_type, truncating=trunc_type)\n",
    "print(labels[np.argmax(model.predict(padded)[1])])\n",
    "\n",
    "print(f\"sentence: {sentences[0][:max_length]}\")\n",
    "print(f\"actual label: {labels[0]}\")\n",
    "\n",
    "predicted_label = labels[np.argmax(model.predict([train_padded[0]]))]\n",
    "print(f\"predicted label: {predicted_label}\")"
   ]
  },
  {
   "cell_type": "code",
   "execution_count": null,
   "metadata": {},
   "outputs": [],
   "source": []
  }
 ],
 "metadata": {
  "kernelspec": {
   "display_name": "tf_training",
   "language": "python",
   "name": ".env"
  },
  "language_info": {
   "codemirror_mode": {
    "name": "ipython",
    "version": 3
   },
   "file_extension": ".py",
   "mimetype": "text/x-python",
   "name": "python",
   "nbconvert_exporter": "python",
   "pygments_lexer": "ipython3",
   "version": "3.8.5"
  }
 },
 "nbformat": 4,
 "nbformat_minor": 4
}
